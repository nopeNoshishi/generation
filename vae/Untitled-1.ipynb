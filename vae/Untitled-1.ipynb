{
 "cells": [
  {
   "cell_type": "code",
   "execution_count": 6,
   "metadata": {},
   "outputs": [],
   "source": [
    "import numpy as np\n",
    "\n",
    "class Dence():\n",
    "    def __init__(self, in_n: int, out_n: int):\n",
    "        self.in_n = in_n\n",
    "        self.out_n = out_n\n",
    "\n",
    "        self.W = np.random.randn(out_n, in_n) * np.sqrt(in_n)\n",
    "        self.b = np.random.randn(out_n) * np.sqrt(in_n)\n",
    "\n",
    "    def forward(self, input):\n",
    "        out = np.dot(self.W, input) * self.b\n",
    "\n",
    "        self.input = input\n",
    "        return out\n",
    "    \n",
    "    def backward(self, dout):\n",
    "        dx = dout * self.input\n",
    "        return dx\n"
   ]
  },
  {
   "cell_type": "code",
   "execution_count": null,
   "metadata": {},
   "outputs": [],
   "source": [
    "\n",
    "\n"
   ]
  }
 ],
 "metadata": {
  "kernelspec": {
   "display_name": "Python 3.9.0 ('.venv': poetry)",
   "language": "python",
   "name": "python3"
  },
  "language_info": {
   "codemirror_mode": {
    "name": "ipython",
    "version": 3
   },
   "file_extension": ".py",
   "mimetype": "text/x-python",
   "name": "python",
   "nbconvert_exporter": "python",
   "pygments_lexer": "ipython3",
   "version": "3.9.0"
  },
  "orig_nbformat": 4,
  "vscode": {
   "interpreter": {
    "hash": "28bbf3454d5606c0a259aab530734f0716c280ca0f8da369118bf8182de4eae5"
   }
  }
 },
 "nbformat": 4,
 "nbformat_minor": 2
}
